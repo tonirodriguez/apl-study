{
 "cells": [
  {
   "cell_type": "raw",
   "id": "2990f581",
   "metadata": {},
   "source": [
    "---\n",
    "title: \"Basics\"\n",
    "author: \"Jeremy Howard\"\n",
    "date: \"2022-07-05\"\n",
    "categories: [Dyalog, APL]\n",
    "---"
   ]
  },
  {
   "cell_type": "markdown",
   "id": "5d6af942",
   "metadata": {},
   "source": [
    "This series will explore all the different glyphs in Dyalog APL.  Wherever possible examples of a glyph will exist for each glyph that do not use other glyphs.  The purpose of this post is to create documentation for glyphs that are helpful for beginners getting started.\n",
    "\n",
    "To get help on a glyph, such as `≠`, type:\n",
    "\n",
    "    ]Help ≠\n",
    "\n",
    "To get more detailed \"pictures\" of arrays and tacit functions type:"
   ]
  },
  {
   "cell_type": "code",
   "execution_count": null,
   "id": "84e8fa35",
   "metadata": {},
   "outputs": [
    {
     "data": {
      "text/html": [
       "<pre class=\"language-APL\">┌→─────────────────────────────────────┐\n",
       "│Was ON -style=max -trains=tree -fns=on│\n",
       "└──────────────────────────────────────┘\n",
       "</pre>"
      ]
     },
     "execution_count": null,
     "metadata": {},
     "output_type": "execute_result"
    }
   ],
   "source": [
    "]box on -style=max -trains=tree -fns=on"
   ]
  },
  {
   "cell_type": "markdown",
   "id": "91395120",
   "metadata": {},
   "source": [
    "This first notebook in the series covers the basic objects."
   ]
  },
  {
   "cell_type": "markdown",
   "id": "90f48eea",
   "metadata": {},
   "source": [
    "## Some objects"
   ]
  },
  {
   "cell_type": "markdown",
   "id": "853229ce",
   "metadata": {},
   "source": [
    "### Real"
   ]
  },
  {
   "cell_type": "markdown",
   "id": "88c349a3-3a9f-4d04-abdc-30caa0c6ea27",
   "metadata": {},
   "source": [
    "Numbers are represented as they are in many other languages.  Integers, negative numbers, and decimals can be created.\n",
    "\n",
    ">Note: Notice that `¯` is a high bar and not the symbol normally used in many other programming languages such as python"
   ]
  },
  {
   "cell_type": "code",
   "execution_count": null,
   "id": "39913487",
   "metadata": {},
   "outputs": [
    {
     "data": {
      "text/html": [
       "<pre class=\"language-APL\"> \n",
       "1\n",
       " \n",
       "</pre>"
      ]
     },
     "execution_count": null,
     "metadata": {},
     "output_type": "execute_result"
    }
   ],
   "source": [
    "1"
   ]
  },
  {
   "cell_type": "code",
   "execution_count": null,
   "id": "8981783e",
   "metadata": {},
   "outputs": [
    {
     "data": {
      "text/html": [
       "<pre class=\"language-APL\">  \n",
       "¯1\n",
       "  \n",
       "</pre>"
      ]
     },
     "execution_count": null,
     "metadata": {},
     "output_type": "execute_result"
    }
   ],
   "source": [
    "¯1"
   ]
  },
  {
   "cell_type": "code",
   "execution_count": null,
   "id": "243fe69d",
   "metadata": {},
   "outputs": [
    {
     "data": {
      "text/html": [
       "<pre class=\"language-APL\">   \n",
       "1.5\n",
       "   \n",
       "</pre>"
      ]
     },
     "execution_count": null,
     "metadata": {},
     "output_type": "execute_result"
    }
   ],
   "source": [
    "1.5"
   ]
  },
  {
   "cell_type": "markdown",
   "id": "53f2150f",
   "metadata": {},
   "source": [
    "### Complex"
   ]
  },
  {
   "cell_type": "markdown",
   "id": "a8ed7616-e66c-4c25-9c2d-493ccc04ad6e",
   "metadata": {},
   "source": [
    "Complex numbers can be created using `j` to represent the `i`."
   ]
  },
  {
   "cell_type": "code",
   "execution_count": null,
   "id": "fdb3c285",
   "metadata": {},
   "outputs": [
    {
     "data": {
      "text/html": [
       "<pre class=\"language-APL\">   \n",
       "0J4\n",
       "   \n",
       "</pre>"
      ]
     },
     "execution_count": null,
     "metadata": {},
     "output_type": "execute_result"
    }
   ],
   "source": [
    "0j4"
   ]
  },
  {
   "cell_type": "code",
   "execution_count": null,
   "id": "bc2be51d",
   "metadata": {},
   "outputs": [
    {
     "data": {
      "text/html": [
       "<pre class=\"language-APL\">   \n",
       "3J4\n",
       "   \n",
       "</pre>"
      ]
     },
     "execution_count": null,
     "metadata": {},
     "output_type": "execute_result"
    }
   ],
   "source": [
    "3j4"
   ]
  },
  {
   "cell_type": "markdown",
   "id": "92281d33",
   "metadata": {},
   "source": [
    "`3j4` means `3+4i`."
   ]
  },
  {
   "cell_type": "code",
   "execution_count": null,
   "id": "94bae213",
   "metadata": {},
   "outputs": [
    {
     "data": {
      "text/html": [
       "<pre class=\"language-APL\"> \n",
       "4\n",
       " \n",
       "</pre>"
      ]
     },
     "execution_count": null,
     "metadata": {},
     "output_type": "execute_result"
    }
   ],
   "source": [
    "4j0"
   ]
  },
  {
   "cell_type": "markdown",
   "id": "b268dcdc-8fbc-4cad-ab81-49c334f0a42f",
   "metadata": {},
   "source": [
    "`4j0` means `4+0i`, which is just the real number 4"
   ]
  },
  {
   "cell_type": "code",
   "execution_count": null,
   "id": "fcf31efe",
   "metadata": {},
   "outputs": [
    {
     "data": {
      "text/html": [
       "<pre class=\"language-APL\">     \n",
       "¯5J¯6\n",
       "     \n",
       "</pre>"
      ]
     },
     "execution_count": null,
     "metadata": {},
     "output_type": "execute_result"
    }
   ],
   "source": [
    "¯5j¯6"
   ]
  },
  {
   "cell_type": "markdown",
   "id": "c453d9f0",
   "metadata": {},
   "source": [
    "### Rank-1 arrays"
   ]
  },
  {
   "cell_type": "markdown",
   "id": "2adb0d26-d52e-440c-8890-7a51c5754792",
   "metadata": {},
   "source": [
    "The syntax for creating a rank-1 array is to separate elements with spaces."
   ]
  },
  {
   "cell_type": "code",
   "execution_count": null,
   "id": "0ff63a92",
   "metadata": {},
   "outputs": [
    {
     "data": {
      "text/html": [
       "<pre class=\"language-APL\">┌→────┐\n",
       "│2 3 1│\n",
       "└~────┘\n",
       "</pre>"
      ]
     },
     "execution_count": null,
     "metadata": {},
     "output_type": "execute_result"
    }
   ],
   "source": [
    "2 3 1"
   ]
  },
  {
   "cell_type": "code",
   "execution_count": null,
   "id": "22d550cf",
   "metadata": {},
   "outputs": [
    {
     "data": {
      "text/html": [
       "<pre class=\"language-APL\">┌→─────┐\n",
       "│2 ¯3 1│\n",
       "└~─────┘\n",
       "</pre>"
      ]
     },
     "execution_count": null,
     "metadata": {},
     "output_type": "execute_result"
    }
   ],
   "source": [
    "2 ¯3 1"
   ]
  },
  {
   "cell_type": "code",
   "execution_count": null,
   "id": "65ad3d13",
   "metadata": {},
   "outputs": [
    {
     "data": {
      "text/html": [
       "<pre class=\"language-APL\">┌→────────┐\n",
       "│0J4 ¯5J¯6│\n",
       "└~────────┘\n",
       "</pre>"
      ]
     },
     "execution_count": null,
     "metadata": {},
     "output_type": "execute_result"
    }
   ],
   "source": [
    "0j4 ¯5j¯6"
   ]
  },
  {
   "cell_type": "markdown",
   "id": "c63d1a1a",
   "metadata": {},
   "source": [
    "### Arrays in arrays"
   ]
  },
  {
   "cell_type": "markdown",
   "id": "b3481e78-74b9-4966-bdfa-7a9c1bf66448",
   "metadata": {},
   "source": [
    "To nest arrays we now need to use parenthesis.  The parenthesis are dictating the order of operations (it's not array specific syntax)."
   ]
  },
  {
   "cell_type": "code",
   "execution_count": null,
   "id": "addcad3a",
   "metadata": {},
   "outputs": [
    {
     "data": {
      "text/html": [
       "<pre class=\"language-APL\">┌→──────────────┐\n",
       "│         ┌→──┐ │\n",
       "│ 1 2 3 4 │1 2│ │\n",
       "│         └~──┘ │\n",
       "└∊──────────────┘\n",
       "</pre>"
      ]
     },
     "execution_count": null,
     "metadata": {},
     "output_type": "execute_result"
    }
   ],
   "source": [
    "1 2 3 4 (1 2)"
   ]
  },
  {
   "cell_type": "code",
   "execution_count": null,
   "id": "532355d3",
   "metadata": {},
   "outputs": [
    {
     "data": {
      "text/html": [
       "<pre class=\"language-APL\">┌→────────────┐\n",
       "│ ┌→──┐ ┌→──┐ │\n",
       "│ │1 2│ │3 4│ │\n",
       "│ └~──┘ └~──┘ │\n",
       "└∊────────────┘\n",
       "</pre>"
      ]
     },
     "execution_count": null,
     "metadata": {},
     "output_type": "execute_result"
    }
   ],
   "source": [
    "(1 2)(3 4)"
   ]
  },
  {
   "cell_type": "code",
   "execution_count": null,
   "id": "6581cfd3",
   "metadata": {},
   "outputs": [
    {
     "data": {
      "text/html": [
       "<pre class=\"language-APL\">┌→──────────────┐\n",
       "│ ┌→──┐ ┌→──┐   │\n",
       "│ │1 2│ │3 4│ 5 │\n",
       "│ └~──┘ └~──┘   │\n",
       "└∊──────────────┘\n",
       "</pre>"
      ]
     },
     "execution_count": null,
     "metadata": {},
     "output_type": "execute_result"
    }
   ],
   "source": [
    "(1 2)(3 4)5"
   ]
  },
  {
   "cell_type": "markdown",
   "id": "0cda0ea5",
   "metadata": {},
   "source": [
    "### ⍝ (Comment)"
   ]
  },
  {
   "cell_type": "markdown",
   "id": "36020db4-1115-49f4-8896-d346cbf79b26",
   "metadata": {},
   "source": [
    "`⍝` tells apl that anything after this character on that line should be ignored and not executed.  Great for writing yourself notes for what pieces of code do."
   ]
  },
  {
   "cell_type": "code",
   "execution_count": null,
   "id": "acc283d0",
   "metadata": {},
   "outputs": [
    {
     "data": {
      "text/html": [
       "<pre class=\"language-APL\">┌→────┐\n",
       "│1 2 3│\n",
       "└~────┘\n",
       "</pre>"
      ]
     },
     "execution_count": null,
     "metadata": {},
     "output_type": "execute_result"
    }
   ],
   "source": [
    "⍝ This is a comment and doesn't do anything\n",
    "1 2 3 ⍝ This is a comment after some code"
   ]
  },
  {
   "cell_type": "markdown",
   "id": "05b7c9cb",
   "metadata": {},
   "source": [
    "## Basic math functions"
   ]
  },
  {
   "cell_type": "markdown",
   "id": "9e38b917",
   "metadata": {},
   "source": [
    "### `-` (Minus sign; Bar)"
   ]
  },
  {
   "cell_type": "markdown",
   "id": "c0f50569",
   "metadata": {},
   "source": [
    "#### Monadic `-` (Negate)"
   ]
  },
  {
   "cell_type": "markdown",
   "id": "51436d8b-c696-41d7-9400-1867a2c145e3",
   "metadata": {},
   "source": [
    "Negate multiplies each element by  `¯1`.  Positive numbers become negative and negative numbers become positive."
   ]
  },
  {
   "cell_type": "code",
   "execution_count": null,
   "id": "0b5b5779",
   "metadata": {},
   "outputs": [
    {
     "data": {
      "text/html": [
       "<pre class=\"language-APL\">  \n",
       "¯4\n",
       "  \n",
       "</pre>"
      ]
     },
     "execution_count": null,
     "metadata": {},
     "output_type": "execute_result"
    }
   ],
   "source": [
    "- 4"
   ]
  },
  {
   "cell_type": "code",
   "execution_count": null,
   "id": "1cd8f993",
   "metadata": {},
   "outputs": [
    {
     "data": {
      "text/html": [
       "<pre class=\"language-APL\"> \n",
       "4\n",
       " \n",
       "</pre>"
      ]
     },
     "execution_count": null,
     "metadata": {},
     "output_type": "execute_result"
    }
   ],
   "source": [
    "- ¯4"
   ]
  },
  {
   "cell_type": "code",
   "execution_count": null,
   "id": "9f1dab97",
   "metadata": {},
   "outputs": [
    {
     "data": {
      "text/html": [
       "<pre class=\"language-APL\">┌→──────────┐\n",
       "│¯4 ¯2 0 3 5│\n",
       "└~──────────┘\n",
       "</pre>"
      ]
     },
     "execution_count": null,
     "metadata": {},
     "output_type": "execute_result"
    }
   ],
   "source": [
    "- 4 2 0 ¯3 ¯5"
   ]
  },
  {
   "cell_type": "code",
   "execution_count": null,
   "id": "5ef33f8c",
   "metadata": {},
   "outputs": [
    {
     "data": {
      "text/html": [
       "<pre class=\"language-APL\">┌→───────────┐\n",
       "│¯4 2 0 ¯3 ¯5│\n",
       "└~───────────┘\n",
       "</pre>"
      ]
     },
     "execution_count": null,
     "metadata": {},
     "output_type": "execute_result"
    }
   ],
   "source": [
    "¯4 2 0 ¯3 ¯5"
   ]
  },
  {
   "cell_type": "markdown",
   "id": "e98a12b7",
   "metadata": {},
   "source": [
    "#### Dyadic `-` (Minus; subtract)"
   ]
  },
  {
   "cell_type": "code",
   "execution_count": null,
   "id": "4368d52a",
   "metadata": {},
   "outputs": [
    {
     "data": {
      "text/html": [
       "<pre class=\"language-APL\"> \n",
       "1\n",
       " \n",
       "</pre>"
      ]
     },
     "execution_count": null,
     "metadata": {},
     "output_type": "execute_result"
    }
   ],
   "source": [
    "3-2"
   ]
  },
  {
   "cell_type": "markdown",
   "id": "cb7a958d-f9a9-41c8-a5f1-e0d5d8ffd9b7",
   "metadata": {},
   "source": [
    "Subtracting happens element-wise."
   ]
  },
  {
   "cell_type": "code",
   "execution_count": null,
   "id": "cebdbfa3",
   "metadata": {},
   "outputs": [
    {
     "data": {
      "text/html": [
       "<pre class=\"language-APL\">┌→──────┐\n",
       "│¯1 ¯3 0│\n",
       "└~──────┘\n",
       "</pre>"
      ]
     },
     "execution_count": null,
     "metadata": {},
     "output_type": "execute_result"
    }
   ],
   "source": [
    "3 2 1 - 4 5 1"
   ]
  },
  {
   "cell_type": "markdown",
   "id": "6f6ca8ca-5d63-4dc6-9b24-73dacf5511f4",
   "metadata": {},
   "source": [
    "APL will broadcast to make element-wise subtraction possible"
   ]
  },
  {
   "cell_type": "code",
   "execution_count": null,
   "id": "e34464bc",
   "metadata": {},
   "outputs": [
    {
     "data": {
      "text/html": [
       "<pre class=\"language-APL\">┌→────┐\n",
       "│2 1 0│\n",
       "└~────┘\n",
       "</pre>"
      ]
     },
     "execution_count": null,
     "metadata": {},
     "output_type": "execute_result"
    }
   ],
   "source": [
    "3 2 1 - 1"
   ]
  },
  {
   "cell_type": "code",
   "execution_count": null,
   "id": "e1eb8e2c",
   "metadata": {},
   "outputs": [
    {
     "data": {
      "text/html": [
       "<pre class=\"language-APL\">┌→──────┐\n",
       "│¯2 ¯1 0│\n",
       "└~──────┘\n",
       "</pre>"
      ]
     },
     "execution_count": null,
     "metadata": {},
     "output_type": "execute_result"
    }
   ],
   "source": [
    "1 - 3 2 1"
   ]
  },
  {
   "cell_type": "markdown",
   "id": "bbc0d769",
   "metadata": {},
   "source": [
    "### `+` (Plus sign)"
   ]
  },
  {
   "cell_type": "markdown",
   "id": "b436ecba",
   "metadata": {},
   "source": [
    "#### Monadic `+` (Conjugate)"
   ]
  },
  {
   "cell_type": "code",
   "execution_count": null,
   "id": "d2070eee",
   "metadata": {},
   "outputs": [
    {
     "data": {
      "text/html": [
       "<pre class=\"language-APL\">   \n",
       "1.2\n",
       "   \n",
       "</pre>"
      ]
     },
     "execution_count": null,
     "metadata": {},
     "output_type": "execute_result"
    }
   ],
   "source": [
    "+ 1.2"
   ]
  },
  {
   "cell_type": "code",
   "execution_count": null,
   "id": "2fac9bf6",
   "metadata": {},
   "outputs": [
    {
     "data": {
      "text/html": [
       "<pre class=\"language-APL\">    \n",
       "¯5J6\n",
       "    \n",
       "</pre>"
      ]
     },
     "execution_count": null,
     "metadata": {},
     "output_type": "execute_result"
    }
   ],
   "source": [
    "+ ¯5j¯6"
   ]
  },
  {
   "cell_type": "markdown",
   "id": "65a2f119-a031-4630-8e62-8c4f58f94d99",
   "metadata": {},
   "source": [
    "`¯5j¯6` means `¯5+¯6i`.  Conjugate negates the imaginary component of complex numbers."
   ]
  },
  {
   "cell_type": "code",
   "execution_count": null,
   "id": "35f8a381",
   "metadata": {},
   "outputs": [
    {
     "data": {
      "text/html": [
       "<pre class=\"language-APL\">┌→────────────┐\n",
       "│1.2 0J¯4 ¯5J6│\n",
       "└~────────────┘\n",
       "</pre>"
      ]
     },
     "execution_count": null,
     "metadata": {},
     "output_type": "execute_result"
    }
   ],
   "source": [
    "+ 1.2 0j4 ¯5j¯6"
   ]
  },
  {
   "cell_type": "markdown",
   "id": "8b5267d6",
   "metadata": {},
   "source": [
    "#### Dyadic `+` (Plus)\n",
    "\n",
    "Plus works element-wise just like minus."
   ]
  },
  {
   "cell_type": "code",
   "execution_count": null,
   "id": "5ca270d2",
   "metadata": {},
   "outputs": [
    {
     "data": {
      "text/html": [
       "<pre class=\"language-APL\"> \n",
       "5\n",
       " \n",
       "</pre>"
      ]
     },
     "execution_count": null,
     "metadata": {},
     "output_type": "execute_result"
    }
   ],
   "source": [
    "3+2"
   ]
  },
  {
   "cell_type": "code",
   "execution_count": null,
   "id": "8ef69a3e",
   "metadata": {},
   "outputs": [
    {
     "data": {
      "text/html": [
       "<pre class=\"language-APL\">┌→────┐\n",
       "│7 7 2│\n",
       "└~────┘\n",
       "</pre>"
      ]
     },
     "execution_count": null,
     "metadata": {},
     "output_type": "execute_result"
    }
   ],
   "source": [
    "3 2 1 + 4 5 1"
   ]
  },
  {
   "cell_type": "code",
   "execution_count": null,
   "id": "a9f35af3",
   "metadata": {},
   "outputs": [
    {
     "data": {
      "text/html": [
       "<pre class=\"language-APL\">┌→────┐\n",
       "│4 3 2│\n",
       "└~────┘\n",
       "</pre>"
      ]
     },
     "execution_count": null,
     "metadata": {},
     "output_type": "execute_result"
    }
   ],
   "source": [
    "3 2 1 + 1"
   ]
  },
  {
   "cell_type": "code",
   "execution_count": null,
   "id": "2114d041",
   "metadata": {},
   "outputs": [
    {
     "data": {
      "text/html": [
       "<pre class=\"language-APL\">┌→────┐\n",
       "│4 3 2│\n",
       "└~────┘\n",
       "</pre>"
      ]
     },
     "execution_count": null,
     "metadata": {},
     "output_type": "execute_result"
    }
   ],
   "source": [
    "1 + 3 2 1"
   ]
  },
  {
   "cell_type": "markdown",
   "id": "f54a4ddc",
   "metadata": {},
   "source": [
    "### `|` (Stile;Vertical Bar)"
   ]
  },
  {
   "cell_type": "markdown",
   "id": "10a354a2",
   "metadata": {},
   "source": [
    "#### Monadic `|` (Magnitude)"
   ]
  },
  {
   "cell_type": "code",
   "execution_count": null,
   "id": "66a4b9d7",
   "metadata": {},
   "outputs": [
    {
     "data": {
      "text/html": [
       "<pre class=\"language-APL\">┌→────┐\n",
       "│3 3 5│\n",
       "└~────┘\n",
       "</pre>"
      ]
     },
     "execution_count": null,
     "metadata": {},
     "output_type": "execute_result"
    }
   ],
   "source": [
    "|3 ¯3 3j4"
   ]
  },
  {
   "cell_type": "markdown",
   "id": "94262b58",
   "metadata": {},
   "source": [
    "`3j4` means `3+4i`, which has a magnitude of 5 (because (3×3)+(4×4)=(5×5))."
   ]
  },
  {
   "cell_type": "markdown",
   "id": "095f9ec8",
   "metadata": {},
   "source": [
    "#### Dyadic `|` (Residue;Modulus)"
   ]
  },
  {
   "cell_type": "markdown",
   "id": "0ae46c19-beb8-4e19-b3eb-2dd8ecb1ab87",
   "metadata": {},
   "source": [
    "Residue;Modulus works element-wise.\n",
    "\n",
    "+ 2 divided by 7 = 3 with a **remainder of 1**\n",
    "+ 10 divided by 13 = 1 **Modulus 3**\n",
    "+ 2 divided by 8 = 4 **Mod 0**"
   ]
  },
  {
   "cell_type": "code",
   "execution_count": null,
   "id": "615c2c47",
   "metadata": {},
   "outputs": [
    {
     "data": {
      "text/html": [
       "<pre class=\"language-APL\">┌→────┐\n",
       "│1 3 0│\n",
       "└~────┘\n",
       "</pre>"
      ]
     },
     "execution_count": null,
     "metadata": {},
     "output_type": "execute_result"
    }
   ],
   "source": [
    "2 10 2 | 7 13 8"
   ]
  },
  {
   "cell_type": "markdown",
   "id": "5bdff09f-10b7-4d3c-84a5-fc844ddcfadc",
   "metadata": {},
   "source": [
    "Negative numbers can seem a bit confusing at first.  [Here](https://www.omnicalculator.com/math/modulo-of-negative-numbers#how-does-modulo-work-with-negative-numbers) is an article that can help you understand modulo with negative numbers."
   ]
  },
  {
   "cell_type": "code",
   "execution_count": null,
   "id": "f278545a",
   "metadata": {},
   "outputs": [
    {
     "data": {
      "text/html": [
       "<pre class=\"language-APL\">┌→─────┐\n",
       "│1 7 ¯2│\n",
       "└~─────┘\n",
       "</pre>"
      ]
     },
     "execution_count": null,
     "metadata": {},
     "output_type": "execute_result"
    }
   ],
   "source": [
    "2 10 ¯2.5 | 7 ¯13 8"
   ]
  },
  {
   "cell_type": "code",
   "execution_count": null,
   "id": "94b15aef-03cb-46a0-8123-f6bfb3b3b133",
   "metadata": {},
   "outputs": [
    {
     "data": {
      "text/html": [
       "<pre class=\"language-APL\">┌→────────┐\n",
       "│3 7 ¯7 ¯3│\n",
       "└~────────┘\n",
       "</pre>"
      ]
     },
     "execution_count": null,
     "metadata": {},
     "output_type": "execute_result"
    }
   ],
   "source": [
    "10 10 ¯10 ¯10 | 13 ¯13 13 ¯13"
   ]
  },
  {
   "cell_type": "markdown",
   "id": "e269c8df",
   "metadata": {},
   "source": [
    "### `÷` (Divide sign)"
   ]
  },
  {
   "cell_type": "markdown",
   "id": "a0256ca9",
   "metadata": {},
   "source": [
    "#### Monadic `÷` (Reciprocol)"
   ]
  },
  {
   "cell_type": "markdown",
   "id": "3f3020a7-55a1-49ca-9c44-7ad8e898df35",
   "metadata": {},
   "source": [
    "Reciprocal is division where 1 is the left argument.\n",
    "\n",
    "+ `÷ 3` is equivalent to `1 ÷ 3`\n",
    "+ `÷ ¯2` is equivalent to `1 ÷ ¯2`\n",
    "+ `÷ 3j4` is equivalent to `1 ÷ 3j4`"
   ]
  },
  {
   "cell_type": "code",
   "execution_count": null,
   "id": "59c278e2",
   "metadata": {},
   "outputs": [
    {
     "data": {
      "text/html": [
       "<pre class=\"language-APL\">┌→───────────────────────────┐\n",
       "│0.3333333333 ¯0.5 0.12J¯0.16│\n",
       "└~───────────────────────────┘\n",
       "</pre>"
      ]
     },
     "execution_count": null,
     "metadata": {},
     "output_type": "execute_result"
    }
   ],
   "source": [
    "÷ 3 ¯2 3j4"
   ]
  },
  {
   "cell_type": "markdown",
   "id": "0a6dab3a",
   "metadata": {},
   "source": [
    "#### Dyadic `÷` (Divided by)"
   ]
  },
  {
   "cell_type": "markdown",
   "id": "05956434-ddaf-4c93-b2b3-88552d6693e5",
   "metadata": {},
   "source": [
    "Divided by does element-wise division"
   ]
  },
  {
   "cell_type": "code",
   "execution_count": null,
   "id": "c75a236c",
   "metadata": {},
   "outputs": [
    {
     "data": {
      "text/html": [
       "<pre class=\"language-APL\">   \n",
       "1.5\n",
       "   \n",
       "</pre>"
      ]
     },
     "execution_count": null,
     "metadata": {},
     "output_type": "execute_result"
    }
   ],
   "source": [
    "3÷2"
   ]
  },
  {
   "cell_type": "code",
   "execution_count": null,
   "id": "4e47f28d",
   "metadata": {},
   "outputs": [
    {
     "data": {
      "text/html": [
       "<pre class=\"language-APL\">┌→─────────┐\n",
       "│1.5 1.2 ¯3│\n",
       "└~─────────┘\n",
       "</pre>"
      ]
     },
     "execution_count": null,
     "metadata": {},
     "output_type": "execute_result"
    }
   ],
   "source": [
    "3÷2 2.5 ¯1"
   ]
  },
  {
   "cell_type": "code",
   "execution_count": null,
   "id": "bf954b9e",
   "metadata": {},
   "outputs": [
    {
     "data": {
      "text/html": [
       "<pre class=\"language-APL\">┌→─────────┐\n",
       "│1.5 0.8 ¯1│\n",
       "└~─────────┘\n",
       "</pre>"
      ]
     },
     "execution_count": null,
     "metadata": {},
     "output_type": "execute_result"
    }
   ],
   "source": [
    "3 2 1÷2 2.5 ¯1"
   ]
  },
  {
   "cell_type": "markdown",
   "id": "abc6bcc4",
   "metadata": {},
   "source": [
    "### `×` (Times sign)"
   ]
  },
  {
   "cell_type": "markdown",
   "id": "73b588d8",
   "metadata": {},
   "source": [
    "#### Monadic `×` (Direction)"
   ]
  },
  {
   "cell_type": "markdown",
   "id": "739c8977-4316-460e-922c-fb3bb2201adf",
   "metadata": {},
   "source": [
    "**For real numbers:** 1 for positive numbers, ¯1 for negative numbers, 0 for 0."
   ]
  },
  {
   "cell_type": "code",
   "execution_count": null,
   "id": "d43e1b27",
   "metadata": {},
   "outputs": [
    {
     "data": {
      "text/html": [
       "<pre class=\"language-APL\">┌→─────────────┐\n",
       "│1 ¯1 0 0.6J0.8│\n",
       "└~─────────────┘\n",
       "</pre>"
      ]
     },
     "execution_count": null,
     "metadata": {},
     "output_type": "execute_result"
    }
   ],
   "source": [
    "× 3.1 ¯2 0 3j4"
   ]
  },
  {
   "cell_type": "markdown",
   "id": "537f943c-f8b5-4af8-9f21-ffb7efc0e85b",
   "metadata": {},
   "source": [
    "Complex numbers are divided by their magnitude.  `0.6j0.8` represents a vector in the same direction as `3j4`, but with a magnitude of 1, since it's `3j4÷5`."
   ]
  },
  {
   "cell_type": "code",
   "execution_count": null,
   "id": "2149f046",
   "metadata": {},
   "outputs": [
    {
     "data": {
      "text/html": [
       "<pre class=\"language-APL\">       \n",
       "0.6J0.8\n",
       "       \n",
       "</pre>"
      ]
     },
     "execution_count": null,
     "metadata": {},
     "output_type": "execute_result"
    }
   ],
   "source": [
    "3j4÷(|3j4)"
   ]
  },
  {
   "cell_type": "code",
   "execution_count": null,
   "id": "c8bc455d",
   "metadata": {},
   "outputs": [
    {
     "data": {
      "text/html": [
       "<pre class=\"language-APL\">       \n",
       "0.6J0.8\n",
       "       \n",
       "</pre>"
      ]
     },
     "execution_count": null,
     "metadata": {},
     "output_type": "execute_result"
    }
   ],
   "source": [
    "÷∘|⍨3j4"
   ]
  },
  {
   "cell_type": "code",
   "execution_count": null,
   "id": "11efc6a8",
   "metadata": {},
   "outputs": [
    {
     "data": {
      "text/html": [
       "<pre class=\"language-APL\">   ⍨\n",
       " ┌─┘\n",
       " ∘\n",
       "┌┴┐\n",
       "÷ |\n",
       "</pre>"
      ]
     },
     "execution_count": null,
     "metadata": {},
     "output_type": "execute_result"
    }
   ],
   "source": [
    "÷∘|⍨"
   ]
  },
  {
   "cell_type": "markdown",
   "id": "c42af4dd",
   "metadata": {},
   "source": [
    "#### Dyadic `×` (Times)"
   ]
  },
  {
   "cell_type": "markdown",
   "id": "a34b9f66-b7e5-4fbb-913a-7314fffe5c41",
   "metadata": {},
   "source": [
    "Element-wise multiplication"
   ]
  },
  {
   "cell_type": "code",
   "execution_count": null,
   "id": "ccec4680",
   "metadata": {},
   "outputs": [
    {
     "data": {
      "text/html": [
       "<pre class=\"language-APL\"> \n",
       "6\n",
       " \n",
       "</pre>"
      ]
     },
     "execution_count": null,
     "metadata": {},
     "output_type": "execute_result"
    }
   ],
   "source": [
    "3×2"
   ]
  },
  {
   "cell_type": "code",
   "execution_count": null,
   "id": "ffabf33e",
   "metadata": {},
   "outputs": [
    {
     "data": {
      "text/html": [
       "<pre class=\"language-APL\">┌→───────┐\n",
       "│6 7.5 ¯3│\n",
       "└~───────┘\n",
       "</pre>"
      ]
     },
     "execution_count": null,
     "metadata": {},
     "output_type": "execute_result"
    }
   ],
   "source": [
    "3×2 2.5 ¯1"
   ]
  },
  {
   "cell_type": "code",
   "execution_count": null,
   "id": "34a53827",
   "metadata": {},
   "outputs": [
    {
     "data": {
      "text/html": [
       "<pre class=\"language-APL\">┌→─────┐\n",
       "│6 5 ¯1│\n",
       "└~─────┘\n",
       "</pre>"
      ]
     },
     "execution_count": null,
     "metadata": {},
     "output_type": "execute_result"
    }
   ],
   "source": [
    "3 2 1×2 2.5 ¯1"
   ]
  },
  {
   "cell_type": "markdown",
   "id": "d86eccdc",
   "metadata": {},
   "source": [
    "### `*` (Star)"
   ]
  },
  {
   "cell_type": "markdown",
   "id": "db6edb53",
   "metadata": {},
   "source": [
    "#### Monadic `*` (Exponential)"
   ]
  },
  {
   "cell_type": "markdown",
   "id": "66807069-681c-4df7-b760-be6c0a86d78b",
   "metadata": {},
   "source": [
    "Exponential takes `e` to the power of the input argument.  `* 1` is equal to `e`"
   ]
  },
  {
   "cell_type": "code",
   "execution_count": null,
   "id": "36fec05d",
   "metadata": {},
   "outputs": [
    {
     "data": {
      "text/html": [
       "<pre class=\"language-APL\">┌→────────────────────────┐\n",
       "│1 2.718281828 7.389056099│\n",
       "└~────────────────────────┘\n",
       "</pre>"
      ]
     },
     "execution_count": null,
     "metadata": {},
     "output_type": "execute_result"
    }
   ],
   "source": [
    "* 0 1 2"
   ]
  },
  {
   "cell_type": "markdown",
   "id": "71e3e0ff",
   "metadata": {},
   "source": [
    "#### Dyadic `*` (Power)"
   ]
  },
  {
   "cell_type": "markdown",
   "id": "f19c5b16-50e1-428a-a853-f431f8722bcf",
   "metadata": {},
   "source": [
    "Power takes the left arguement and puts it to the power of the right arguement.  Power is applied elementwise."
   ]
  },
  {
   "cell_type": "code",
   "execution_count": null,
   "id": "c182968b",
   "metadata": {},
   "outputs": [
    {
     "data": {
      "text/html": [
       "<pre class=\"language-APL\">┌→───────┐\n",
       "│7 25 0J2│\n",
       "└~───────┘\n",
       "</pre>"
      ]
     },
     "execution_count": null,
     "metadata": {},
     "output_type": "execute_result"
    }
   ],
   "source": [
    "49 5 ¯4 * 0.5 2 0.5"
   ]
  },
  {
   "cell_type": "markdown",
   "id": "3f3ed5bb",
   "metadata": {},
   "source": [
    "### `!` (Exclamation mark)"
   ]
  },
  {
   "cell_type": "markdown",
   "id": "4dd86f84",
   "metadata": {},
   "source": [
    "#### Monadic `!` (factorial)"
   ]
  },
  {
   "cell_type": "markdown",
   "id": "aa684455-7417-44b0-b9ac-81d21439526a",
   "metadata": {},
   "source": [
    "5 Factorial, or `!5` is equal to `5×4×3×2×1`."
   ]
  },
  {
   "cell_type": "code",
   "execution_count": null,
   "id": "f4f8538f",
   "metadata": {},
   "outputs": [
    {
     "data": {
      "text/html": [
       "<pre class=\"language-APL\">   \n",
       "120\n",
       "   \n",
       "</pre>"
      ]
     },
     "execution_count": null,
     "metadata": {},
     "output_type": "execute_result"
    }
   ],
   "source": [
    "!5"
   ]
  },
  {
   "cell_type": "code",
   "execution_count": null,
   "id": "6310cddf",
   "metadata": {},
   "outputs": [
    {
     "data": {
      "text/html": [
       "<pre class=\"language-APL\">           \n",
       "1.329340388\n",
       "           \n",
       "</pre>"
      ]
     },
     "execution_count": null,
     "metadata": {},
     "output_type": "execute_result"
    }
   ],
   "source": [
    "!1.5  ⍝ gamma(1.5+1)"
   ]
  },
  {
   "cell_type": "markdown",
   "id": "db854cd1",
   "metadata": {},
   "source": [
    "#### Dyadic `!` (Binomial)"
   ]
  },
  {
   "cell_type": "markdown",
   "id": "eff405cb",
   "metadata": {},
   "source": [
    "Binomial can be defined using factorial: `X!Y ←→ (!Y)÷(!X)×!Y-X`. R is the number of selections of X things from Y things."
   ]
  },
  {
   "cell_type": "code",
   "execution_count": null,
   "id": "9497ae5e",
   "metadata": {},
   "outputs": [
    {
     "data": {
      "text/html": [
       "<pre class=\"language-APL\">┌→────────────┐\n",
       "│1 5 10 10 5 1│\n",
       "└~────────────┘\n",
       "</pre>"
      ]
     },
     "execution_count": null,
     "metadata": {},
     "output_type": "execute_result"
    }
   ],
   "source": [
    "0 1 2 3 4 5 ! 5"
   ]
  },
  {
   "cell_type": "markdown",
   "id": "a08fd79c",
   "metadata": {},
   "source": [
    "### `?` (Question mark)"
   ]
  },
  {
   "cell_type": "markdown",
   "id": "1f2ab612",
   "metadata": {},
   "source": [
    "#### Monadic `?` (Roll)"
   ]
  },
  {
   "cell_type": "markdown",
   "id": "9c9a2544-8962-4131-95a8-8e5a221a83b7",
   "metadata": {},
   "source": [
    "Gives a random integer between 1 and the input argument or, in the case of 0, a random non-integer between 0 and 1"
   ]
  },
  {
   "cell_type": "code",
   "execution_count": null,
   "id": "f6c532c6",
   "metadata": {},
   "outputs": [
    {
     "data": {
      "text/html": [
       "<pre class=\"language-APL\">┌→────────┐\n",
       "│4 3 4 2 1│\n",
       "└~────────┘\n",
       "</pre>"
      ]
     },
     "execution_count": null,
     "metadata": {},
     "output_type": "execute_result"
    }
   ],
   "source": [
    "? 6 6 6 6 6"
   ]
  },
  {
   "cell_type": "code",
   "execution_count": null,
   "id": "339a8c79",
   "metadata": {},
   "outputs": [
    {
     "data": {
      "text/html": [
       "<pre class=\"language-APL\">┌→────────────────────────┐\n",
       "│0.5456603511 0.3390443517│\n",
       "└~────────────────────────┘\n",
       "</pre>"
      ]
     },
     "execution_count": null,
     "metadata": {},
     "output_type": "execute_result"
    }
   ],
   "source": [
    "? 0 0"
   ]
  },
  {
   "cell_type": "markdown",
   "id": "bbca3638",
   "metadata": {},
   "source": [
    "#### Dyadic `?` (Deal)"
   ]
  },
  {
   "cell_type": "markdown",
   "id": "d12b2baa-ec3b-4b2f-95b3-493caa8ec336",
   "metadata": {},
   "source": [
    "Generates left argument number of numbers between 1 and the right argument.  So `13 ? 52` will give 13 numbers between 1 and 52.  Deal does sampling without replacement, meaning the same number will not show up multiple times."
   ]
  },
  {
   "cell_type": "code",
   "execution_count": null,
   "id": "dbac764e",
   "metadata": {},
   "outputs": [
    {
     "data": {
      "text/html": [
       "<pre class=\"language-APL\">┌→──────────────────────────────────┐\n",
       "│51 50 26 10 40 4 34 2 38 8 27 42 44│\n",
       "└~──────────────────────────────────┘\n",
       "</pre>"
      ]
     },
     "execution_count": null,
     "metadata": {},
     "output_type": "execute_result"
    }
   ],
   "source": [
    "13 ? 52"
   ]
  },
  {
   "cell_type": "markdown",
   "id": "f7921b82",
   "metadata": {},
   "source": [
    "### `○` (Circle)"
   ]
  },
  {
   "cell_type": "markdown",
   "id": "68dcaf28",
   "metadata": {},
   "source": [
    "#### Monadic `○` (Pi Times)"
   ]
  },
  {
   "cell_type": "markdown",
   "id": "b3ca08e9-a837-4949-847b-bad9e58e33fe",
   "metadata": {},
   "source": [
    "Multiplies `pi` times the input argument.  "
   ]
  },
  {
   "cell_type": "code",
   "execution_count": null,
   "id": "02958892",
   "metadata": {},
   "outputs": [
    {
     "data": {
      "text/html": [
       "<pre class=\"language-APL\">┌→────────────────────────┐\n",
       "│0 3.141592654 6.283185307│\n",
       "└~────────────────────────┘\n",
       "</pre>"
      ]
     },
     "execution_count": null,
     "metadata": {},
     "output_type": "execute_result"
    }
   ],
   "source": [
    "○ 0 1 2"
   ]
  },
  {
   "cell_type": "markdown",
   "id": "7696241b",
   "metadata": {},
   "source": [
    "#### Dyadic `○` (Circular Function - Trig)"
   ]
  },
  {
   "cell_type": "markdown",
   "id": "ddb89934",
   "metadata": {},
   "source": [
    "For table of stuff `ᴏ` can do, see the [docs](https://help.dyalog.com/latest/Content/Language/Symbols/Circle.htm). Theleft argument selects function(s) to apply. E.g `1` gives Sine `⍵`, and and `2` is Cos."
   ]
  },
  {
   "cell_type": "code",
   "execution_count": null,
   "id": "9b955aac",
   "metadata": {},
   "outputs": [
    {
     "data": {
      "text/html": [
       "<pre class=\"language-APL\">┌→──┐\n",
       "│1 0│\n",
       "└~──┘\n",
       "</pre>"
      ]
     },
     "execution_count": null,
     "metadata": {},
     "output_type": "execute_result"
    }
   ],
   "source": [
    "0 1 ○ 0"
   ]
  },
  {
   "cell_type": "markdown",
   "id": "48a2dc2d",
   "metadata": {},
   "source": [
    "### `⍟` (Logarithm; Circle Star)"
   ]
  },
  {
   "cell_type": "markdown",
   "id": "106b0743",
   "metadata": {},
   "source": [
    "#### Monadic `⍟` (Natural Log)"
   ]
  },
  {
   "cell_type": "markdown",
   "id": "0e375d69-5adc-402a-b3cf-c7877b76dd61",
   "metadata": {},
   "source": [
    "The natural logarithm of a number is its logarithm to the base of the mathematical constant `e`"
   ]
  },
  {
   "cell_type": "code",
   "execution_count": null,
   "id": "5e19264f",
   "metadata": {},
   "outputs": [
    {
     "data": {
      "text/html": [
       "<pre class=\"language-APL\">┌→───────────────────────────┐\n",
       "│0 0.6931471806 1.098612289 1│\n",
       "└~───────────────────────────┘\n",
       "</pre>"
      ]
     },
     "execution_count": null,
     "metadata": {},
     "output_type": "execute_result"
    }
   ],
   "source": [
    "⍟ 1 2 3 (*1)"
   ]
  },
  {
   "cell_type": "markdown",
   "id": "807bd342",
   "metadata": {},
   "source": [
    "#### Dyadic `⍟` (Log)"
   ]
  },
  {
   "cell_type": "markdown",
   "id": "b4304390-bcdc-4784-8de2-ccfb7c0b7ebe",
   "metadata": {},
   "source": [
    "Calculates the log.  `2⍟32` is equal to log2(32)"
   ]
  },
  {
   "cell_type": "code",
   "execution_count": null,
   "id": "6e152b67",
   "metadata": {},
   "outputs": [
    {
     "data": {
      "text/html": [
       "<pre class=\"language-APL\">┌→──┐\n",
       "│5 3│\n",
       "└~──┘\n",
       "</pre>"
      ]
     },
     "execution_count": null,
     "metadata": {},
     "output_type": "execute_result"
    }
   ],
   "source": [
    "2 10 ⍟ 32 1000"
   ]
  },
  {
   "cell_type": "markdown",
   "id": "9b3e3ffc",
   "metadata": {},
   "source": [
    "## Expressions"
   ]
  },
  {
   "cell_type": "markdown",
   "id": "3a516a0a",
   "metadata": {},
   "source": [
    "### Precedence"
   ]
  },
  {
   "cell_type": "markdown",
   "id": "3f696b2b-aabd-4b51-b7ac-dd7da08cf0c8",
   "metadata": {},
   "source": [
    "Function precedence in APL is always right to left, evaluating parentheses when encountered.  This means `3×2+1` does the addition first before the multiplication because addition is further right.  You could change the order of operations by using parenthesis, `(3×2)+1`, or reordering it to `1+3×2`."
   ]
  },
  {
   "cell_type": "code",
   "execution_count": null,
   "id": "415a629e",
   "metadata": {},
   "outputs": [
    {
     "data": {
      "text/html": [
       "<pre class=\"language-APL\"> \n",
       "9\n",
       " \n",
       "</pre>"
      ]
     },
     "execution_count": null,
     "metadata": {},
     "output_type": "execute_result"
    }
   ],
   "source": [
    "3×2+1"
   ]
  },
  {
   "cell_type": "markdown",
   "id": "39bcc3d6-0d7d-45c4-b246-ba6d4c1d96c8",
   "metadata": {},
   "source": [
    "Before functions are applied, vectors are created. `1 2 3×2` creates the vector `1 2 3` first, then applies functions right to left.  The below code cell could be rewritten as `(1 2 3)×2`, but since the parenthesis is redundant it is often best practice to leave it off.  This is often referred to as stranding having a higher binding strength than function applications."
   ]
  },
  {
   "cell_type": "code",
   "execution_count": null,
   "id": "0712074c-1966-4eac-b2a7-14424a83d1e4",
   "metadata": {},
   "outputs": [
    {
     "data": {
      "text/html": [
       "<pre class=\"language-APL\">┌→────┐\n",
       "│2 4 6│\n",
       "└~────┘\n",
       "</pre>"
      ]
     },
     "execution_count": null,
     "metadata": {},
     "output_type": "execute_result"
    }
   ],
   "source": [
    "1 2 3×2"
   ]
  },
  {
   "cell_type": "markdown",
   "id": "44b4826d-c8e2-4222-9399-b6790bce38b4",
   "metadata": {},
   "source": [
    ":::{.callout-note}\n",
    "Reminder: In the below examples, remember that functions are applied right to left!  `1 2 3×2+1` adds `2+1` to get 3, then multiplies by the vector `1 2 3`\n",
    ":::"
   ]
  },
  {
   "cell_type": "code",
   "execution_count": null,
   "id": "333812a2",
   "metadata": {},
   "outputs": [
    {
     "data": {
      "text/html": [
       "<pre class=\"language-APL\">┌→────┐\n",
       "│3 6 9│\n",
       "└~────┘\n",
       "</pre>"
      ]
     },
     "execution_count": null,
     "metadata": {},
     "output_type": "execute_result"
    }
   ],
   "source": [
    "1 2 3×2+1"
   ]
  },
  {
   "cell_type": "code",
   "execution_count": null,
   "id": "fecc4aa4",
   "metadata": {},
   "outputs": [
    {
     "data": {
      "text/html": [
       "<pre class=\"language-APL\">┌→──────┐\n",
       "│4 12 24│\n",
       "└~──────┘\n",
       "</pre>"
      ]
     },
     "execution_count": null,
     "metadata": {},
     "output_type": "execute_result"
    }
   ],
   "source": [
    "1 2 3×2+2 4 6"
   ]
  },
  {
   "cell_type": "code",
   "execution_count": null,
   "id": "bb8463b5",
   "metadata": {},
   "outputs": [
    {
     "data": {
      "text/html": [
       "<pre class=\"language-APL\">┌→───┐\n",
       "│7 ¯1│\n",
       "└~───┘\n",
       "</pre>"
      ]
     },
     "execution_count": null,
     "metadata": {},
     "output_type": "execute_result"
    }
   ],
   "source": [
    "3 ¯5 + 4"
   ]
  },
  {
   "cell_type": "markdown",
   "id": "418a0292-7c56-4af8-bb68-c78c308c3f45",
   "metadata": {},
   "source": [
    "The next example follows the same precedence. `÷3` is done first (reciprocal 3)."
   ]
  },
  {
   "cell_type": "code",
   "execution_count": null,
   "id": "51986f3d",
   "metadata": {},
   "outputs": [
    {
     "data": {
      "text/html": [
       "<pre class=\"language-APL\"> \n",
       "2\n",
       " \n",
       "</pre>"
      ]
     },
     "execution_count": null,
     "metadata": {},
     "output_type": "execute_result"
    }
   ],
   "source": [
    "8*÷3"
   ]
  },
  {
   "cell_type": "markdown",
   "id": "c145bfe5",
   "metadata": {},
   "source": [
    "### Assignment"
   ]
  },
  {
   "cell_type": "markdown",
   "id": "46c59edb-b34b-4ba5-adda-08b11a23c4aa",
   "metadata": {},
   "source": [
    "The left arrow assigns to variables.  `a←3` is 3 is assigned to a."
   ]
  },
  {
   "cell_type": "code",
   "execution_count": null,
   "id": "0012af8b",
   "metadata": {},
   "outputs": [
    {
     "data": {
      "text/html": [
       "<pre class=\"language-APL\"> \n",
       "3\n",
       " \n",
       "</pre>"
      ]
     },
     "execution_count": null,
     "metadata": {},
     "output_type": "execute_result"
    }
   ],
   "source": [
    "a←3\n",
    "a"
   ]
  },
  {
   "cell_type": "markdown",
   "id": "16e59113-0c55-494c-81b0-9667666d7d03",
   "metadata": {},
   "source": [
    "There're 2 interesting things in the next example:\n",
    "\n",
    "+ ⎕ is a special variable that represents the screen.  By assigning a value to *quad* it prints to the screen.\n",
    "+ ← follows usual precedence of right to left.  3 is assigned to a, then a is assigned to ⎕.\n"
   ]
  },
  {
   "cell_type": "code",
   "execution_count": null,
   "id": "7630f424",
   "metadata": {},
   "outputs": [
    {
     "data": {
      "text/html": [
       "<pre class=\"language-APL\"> \n",
       "3\n",
       " \n",
       "</pre>"
      ]
     },
     "execution_count": null,
     "metadata": {},
     "output_type": "execute_result"
    }
   ],
   "source": [
    "⎕←a←3"
   ]
  },
  {
   "cell_type": "code",
   "execution_count": null,
   "id": "f676beae",
   "metadata": {},
   "outputs": [
    {
     "data": {
      "text/html": [
       "<pre class=\"language-APL\">┌→──┐\n",
       "│3 4│\n",
       "└~──┘\n",
       "</pre>"
      ]
     },
     "execution_count": null,
     "metadata": {},
     "output_type": "execute_result"
    }
   ],
   "source": [
    "b←3 4\n",
    "b"
   ]
  },
  {
   "cell_type": "markdown",
   "id": "be1a4d2c",
   "metadata": {},
   "source": [
    "### Functions"
   ]
  },
  {
   "cell_type": "markdown",
   "id": "5814f8be-ec64-4904-af0d-2152de812eda",
   "metadata": {},
   "source": [
    "Single argument functions (monadic functions) in APL have the argument `⍵`, which always is input to the right of the function.  You cannot change the name of the argument.  Enclosing something in curly braces is the syntax for function definition."
   ]
  },
  {
   "cell_type": "code",
   "execution_count": null,
   "id": "015e629e",
   "metadata": {},
   "outputs": [
    {
     "data": {
      "text/html": [
       "<pre class=\"language-APL\"> \n",
       "8\n",
       " \n",
       "</pre>"
      ]
     },
     "execution_count": null,
     "metadata": {},
     "output_type": "execute_result"
    }
   ],
   "source": [
    "{⍵×2} 4"
   ]
  },
  {
   "cell_type": "code",
   "execution_count": null,
   "id": "7b821d34",
   "metadata": {},
   "outputs": [
    {
     "data": {
      "text/html": [
       "<pre class=\"language-APL\"> \n",
       "8\n",
       " \n",
       "</pre>"
      ]
     },
     "execution_count": null,
     "metadata": {},
     "output_type": "execute_result"
    }
   ],
   "source": [
    "f ← {⍵×2}\n",
    "f 4"
   ]
  },
  {
   "cell_type": "markdown",
   "id": "b4ca0078-9579-40c2-8319-ed17c49df20a",
   "metadata": {},
   "source": [
    "Dual argument function (dyadic functions) in APL have an additional argument `⍺`, which is input to the left of the function."
   ]
  },
  {
   "cell_type": "code",
   "execution_count": null,
   "id": "26f11c52",
   "metadata": {},
   "outputs": [
    {
     "data": {
      "text/html": [
       "<pre class=\"language-APL\">  \n",
       "20\n",
       "  \n",
       "</pre>"
      ]
     },
     "execution_count": null,
     "metadata": {},
     "output_type": "execute_result"
    }
   ],
   "source": [
    "g ← {⍵×2+⍺}\n",
    "3 g 4"
   ]
  },
  {
   "cell_type": "code",
   "execution_count": null,
   "id": "baf748c8",
   "metadata": {},
   "outputs": [
    {
     "data": {
      "text/html": [
       "<pre class=\"language-APL\">  \n",
       "10\n",
       "  \n",
       "</pre>"
      ]
     },
     "execution_count": null,
     "metadata": {},
     "output_type": "execute_result"
    }
   ],
   "source": [
    "f ← {⍵×2}\n",
    "h ← {2 + f ⍵}\n",
    "h 4"
   ]
  },
  {
   "cell_type": "markdown",
   "id": "1602ade6",
   "metadata": {},
   "source": [
    "#### ⋄ (Statement separator)"
   ]
  },
  {
   "cell_type": "markdown",
   "id": "16024f80-24b8-4e1a-ac1a-c18afe58716b",
   "metadata": {},
   "source": [
    "Statement separator can be used to perform a computation in multiple steps.  In the below example `a ← ⍵×2` is evaluated, then `2 + a` is evaluated and returned."
   ]
  },
  {
   "cell_type": "code",
   "execution_count": null,
   "id": "251704c6",
   "metadata": {},
   "outputs": [
    {
     "data": {
      "text/html": [
       "<pre class=\"language-APL\">  \n",
       "10\n",
       "  \n",
       "</pre>"
      ]
     },
     "execution_count": null,
     "metadata": {},
     "output_type": "execute_result"
    }
   ],
   "source": [
    "f ← {a ← ⍵×2 ⋄ 2 + a}\n",
    "f 4"
   ]
  },
  {
   "cell_type": "code",
   "execution_count": null,
   "id": "84b44c9b",
   "metadata": {},
   "outputs": [
    {
     "data": {
      "text/html": [
       "<pre class=\"language-APL\"> \n",
       "2\n",
       " \n",
       "</pre>"
      ]
     },
     "execution_count": null,
     "metadata": {},
     "output_type": "execute_result"
    }
   ],
   "source": [
    "f←{a←1 ⋄ 2 ⋄ 3}  ⍝ First non-assignment is the result of the function\n",
    "f 2"
   ]
  },
  {
   "cell_type": "markdown",
   "id": "47bff945",
   "metadata": {},
   "source": [
    "#### Guard expressions"
   ]
  },
  {
   "cell_type": "markdown",
   "id": "379c6e79-60e3-445f-8d7d-00ee81a4490f",
   "metadata": {},
   "source": [
    "A guard expression allows you to specify a condition for a result.\n",
    "\n",
    "`{⍵>1:1 ⋄ ⍵}` says if `⍵` is greater than 1, then 1 else `⍵`"
   ]
  },
  {
   "cell_type": "code",
   "execution_count": null,
   "id": "24092566-1402-46c0-8706-b64855517bdd",
   "metadata": {},
   "outputs": [],
   "source": [
    "fact←{⍵>1:1 ⋄ ⍵}"
   ]
  },
  {
   "cell_type": "markdown",
   "id": "3ff2c593-a131-46a4-8deb-2046c6bdb518",
   "metadata": {},
   "source": [
    "Other conditionals and more complex expressions can be used in guard expressions"
   ]
  },
  {
   "cell_type": "code",
   "execution_count": null,
   "id": "977c33ea",
   "metadata": {},
   "outputs": [],
   "source": [
    "fact1←{⍵≤1:1 ⋄ ⍵×fact ⍵-1 }"
   ]
  },
  {
   "cell_type": "code",
   "execution_count": null,
   "id": "15629e41",
   "metadata": {},
   "outputs": [
    {
     "data": {
      "text/html": [
       "<pre class=\"language-APL\"> \n",
       "1\n",
       " \n",
       "</pre>"
      ]
     },
     "execution_count": null,
     "metadata": {},
     "output_type": "execute_result"
    }
   ],
   "source": [
    "fact 1"
   ]
  },
  {
   "cell_type": "code",
   "execution_count": null,
   "id": "88f16cf1",
   "metadata": {},
   "outputs": [
    {
     "data": {
      "text/html": [
       "<pre class=\"language-APL\"> \n",
       "1\n",
       " \n",
       "</pre>"
      ]
     },
     "execution_count": null,
     "metadata": {},
     "output_type": "execute_result"
    }
   ],
   "source": [
    "fact 5"
   ]
  },
  {
   "cell_type": "markdown",
   "id": "c933a194",
   "metadata": {},
   "source": [
    "#### ∇ Del/Nabla (Recursion)"
   ]
  },
  {
   "cell_type": "markdown",
   "id": "68afc25a-b0f7-4fdb-ba7f-e89948d65a31",
   "metadata": {},
   "source": [
    "Recursion can be simplified using `∇`. "
   ]
  },
  {
   "cell_type": "code",
   "execution_count": null,
   "id": "008d1470-313d-4884-a712-ea8163b15719",
   "metadata": {},
   "outputs": [
    {
     "data": {
      "text/html": [
       "<pre class=\"language-APL\">   \n",
       "120\n",
       "   \n",
       "</pre>"
      ]
     },
     "execution_count": null,
     "metadata": {},
     "output_type": "execute_result"
    }
   ],
   "source": [
    "{⍵≤1:1 ⋄ ⍵×∇ ⍵-1} 5"
   ]
  },
  {
   "cell_type": "markdown",
   "id": "1e75d95a-4e51-4858-91b6-9b8234a254b3",
   "metadata": {},
   "source": [
    "This accomplishes the same thing as the function calling itself more explicitly"
   ]
  },
  {
   "cell_type": "code",
   "execution_count": null,
   "id": "0b38c731-ab0c-4e9a-8603-ab10979d3907",
   "metadata": {},
   "outputs": [
    {
     "data": {
      "text/html": [
       "<pre class=\"language-APL\"> \n",
       "1\n",
       " \n",
       "</pre>"
      ]
     },
     "execution_count": null,
     "metadata": {},
     "output_type": "execute_result"
    },
    {
     "data": {
      "text/html": [
       "<pre class=\"language-APL\"> \n",
       "1\n",
       " \n",
       "</pre>"
      ]
     },
     "execution_count": null,
     "metadata": {},
     "output_type": "execute_result"
    }
   ],
   "source": [
    "fact1 ← {⍵≤1:1 ⋄ ⍵×fact1 ⍵-1 }\n",
    "fact2 ← {⍵≤1:1 ⋄ ⍵×∇ ⍵-1}\n",
    "\n",
    "(fact1 1) = (fact2 1)\n",
    "(fact1 5) = (fact2 5)"
   ]
  },
  {
   "cell_type": "code",
   "execution_count": null,
   "id": "b1003aca",
   "metadata": {},
   "outputs": [
    {
     "data": {
      "text/html": [
       "<pre class=\"language-APL\">   \n",
       "120\n",
       "   \n",
       "</pre>"
      ]
     },
     "execution_count": null,
     "metadata": {},
     "output_type": "execute_result"
    }
   ],
   "source": [
    "{⍵≤1:1 ⋄ ⍵×∇ ⍵-1} 5"
   ]
  },
  {
   "cell_type": "code",
   "execution_count": null,
   "id": "72a3767d",
   "metadata": {},
   "outputs": [],
   "source": [
    "fact ← {⍵≤1:1 ⋄ ⍵×∇ ⍵-1}"
   ]
  },
  {
   "cell_type": "code",
   "execution_count": null,
   "id": "470b8f55-fc69-46ad-be64-8cddfe110d7f",
   "metadata": {},
   "outputs": [
    {
     "data": {
      "text/html": [
       "<pre class=\"language-APL\"> \n",
       "1\n",
       " \n",
       "</pre>"
      ]
     },
     "execution_count": null,
     "metadata": {},
     "output_type": "execute_result"
    }
   ],
   "source": [
    "fact 1"
   ]
  },
  {
   "cell_type": "code",
   "execution_count": null,
   "id": "9309e7aa",
   "metadata": {},
   "outputs": [
    {
     "data": {
      "text/html": [
       "<pre class=\"language-APL\">   \n",
       "120\n",
       "   \n",
       "</pre>"
      ]
     },
     "execution_count": null,
     "metadata": {},
     "output_type": "execute_result"
    }
   ],
   "source": [
    "fact 5"
   ]
  },
  {
   "cell_type": "markdown",
   "id": "1513585f",
   "metadata": {},
   "source": [
    "### Destructuring assignment"
   ]
  },
  {
   "cell_type": "code",
   "execution_count": null,
   "id": "d05d0c59",
   "metadata": {},
   "outputs": [
    {
     "data": {
      "text/html": [
       "<pre class=\"language-APL\"> \n",
       "3\n",
       " \n",
       "</pre>"
      ]
     },
     "execution_count": null,
     "metadata": {},
     "output_type": "execute_result"
    }
   ],
   "source": [
    "(a b) ← 3 4\n",
    "a"
   ]
  },
  {
   "cell_type": "markdown",
   "id": "4dddc7fa",
   "metadata": {},
   "source": [
    "## Array rank"
   ]
  },
  {
   "cell_type": "markdown",
   "id": "1fd3e439",
   "metadata": {},
   "source": [
    "### `⍴` (rho)"
   ]
  },
  {
   "cell_type": "markdown",
   "id": "33002d4a",
   "metadata": {},
   "source": [
    "#### Dyadic `⍴` (reshape)"
   ]
  },
  {
   "cell_type": "markdown",
   "id": "31f6eb64-563a-49d7-9140-0e7c9ca67592",
   "metadata": {},
   "source": [
    "By default a series of numbers creates a 1 dimensional vector"
   ]
  },
  {
   "cell_type": "code",
   "execution_count": null,
   "id": "80b4d271",
   "metadata": {},
   "outputs": [
    {
     "data": {
      "text/html": [
       "<pre class=\"language-APL\">┌→──────────┐\n",
       "│1 2 3 4 5 6│\n",
       "└~──────────┘\n",
       "</pre>"
      ]
     },
     "execution_count": null,
     "metadata": {},
     "output_type": "execute_result"
    }
   ],
   "source": [
    "⎕ ← 1 2 3 4 5 6"
   ]
  },
  {
   "cell_type": "markdown",
   "id": "4507e793-6927-4733-923c-69f8f61a6bc6",
   "metadata": {},
   "source": [
    "The `⍴` function can reshape it into the specified shape."
   ]
  },
  {
   "cell_type": "code",
   "execution_count": null,
   "id": "73dbf073",
   "metadata": {},
   "outputs": [
    {
     "data": {
      "text/html": [
       "<pre class=\"language-APL\">┌→────┐\n",
       "↓1 2 3│\n",
       "│4 5 6│\n",
       "└~────┘\n",
       "</pre>"
      ]
     },
     "execution_count": null,
     "metadata": {},
     "output_type": "execute_result"
    }
   ],
   "source": [
    "a ← 1 2 3 4 5 6\n",
    "⎕←mat←2 3 ⍴ a"
   ]
  },
  {
   "cell_type": "code",
   "execution_count": null,
   "id": "c3a455fe",
   "metadata": {},
   "outputs": [
    {
     "data": {
      "text/html": [
       "<pre class=\"language-APL\">┌→──┐\n",
       "↓1 2│\n",
       "│3 4│\n",
       "│5 6│\n",
       "└~──┘\n",
       "</pre>"
      ]
     },
     "execution_count": null,
     "metadata": {},
     "output_type": "execute_result"
    }
   ],
   "source": [
    "a ← 1 2 3 4 5 6\n",
    "3 2 ⍴ a"
   ]
  },
  {
   "cell_type": "code",
   "execution_count": null,
   "id": "62c4c60a",
   "metadata": {},
   "outputs": [
    {
     "data": {
      "text/html": [
       "<pre class=\"language-APL\">┌→──────────┐\n",
       "↓1 2 3 4 5 6│\n",
       "└~──────────┘\n",
       "</pre>"
      ]
     },
     "execution_count": null,
     "metadata": {},
     "output_type": "execute_result"
    }
   ],
   "source": [
    "a ← 1 2 3 4 5 6\n",
    "1 6 ⍴ a"
   ]
  },
  {
   "cell_type": "markdown",
   "id": "4bdc611c-515b-415b-a5b5-3dab5a5d9cbf",
   "metadata": {},
   "source": [
    "Reshape will broadcast the original vector as needed to create the desired shape."
   ]
  },
  {
   "cell_type": "code",
   "execution_count": null,
   "id": "459c8924",
   "metadata": {},
   "outputs": [
    {
     "data": {
      "text/html": [
       "<pre class=\"language-APL\">┌┌→────┐\n",
       "↓↓1 2 3│\n",
       "││4 5 6│\n",
       "││     │\n",
       "││1 2 3│\n",
       "││4 5 6│\n",
       "└└~────┘\n",
       "</pre>"
      ]
     },
     "execution_count": null,
     "metadata": {},
     "output_type": "execute_result"
    }
   ],
   "source": [
    "a ← 1 2 3 4 5 6\n",
    "⎕←c←2 2 3 ⍴ a"
   ]
  },
  {
   "cell_type": "code",
   "execution_count": null,
   "id": "7651f6ef",
   "metadata": {},
   "outputs": [
    {
     "data": {
      "text/html": [
       "<pre class=\"language-APL\">┌→────┐\n",
       "↓1 1 1│\n",
       "│1 1 1│\n",
       "└~────┘\n",
       "</pre>"
      ]
     },
     "execution_count": null,
     "metadata": {},
     "output_type": "execute_result"
    }
   ],
   "source": [
    "2 3 ⍴ 1"
   ]
  },
  {
   "cell_type": "markdown",
   "id": "95b6c2f5",
   "metadata": {},
   "source": [
    "#### Monadic `⍴` (shape of)"
   ]
  },
  {
   "cell_type": "markdown",
   "id": "4845335b-af2b-43fd-bbd9-e28ffe521f24",
   "metadata": {},
   "source": [
    "The mondadic `⍴` tells you what the shape is."
   ]
  },
  {
   "cell_type": "code",
   "execution_count": null,
   "id": "4ff2def4",
   "metadata": {},
   "outputs": [
    {
     "data": {
      "text/html": [
       "<pre class=\"language-APL\">┌→┐\n",
       "│6│\n",
       "└~┘\n",
       "</pre>"
      ]
     },
     "execution_count": null,
     "metadata": {},
     "output_type": "execute_result"
    }
   ],
   "source": [
    "a ← 1 2 3 4 5 6\n",
    "⍴a"
   ]
  },
  {
   "cell_type": "code",
   "execution_count": null,
   "id": "0313a50e",
   "metadata": {},
   "outputs": [
    {
     "data": {
      "text/html": [
       "<pre class=\"language-APL\">┌→──┐\n",
       "│2 3│\n",
       "└~──┘\n",
       "</pre>"
      ]
     },
     "execution_count": null,
     "metadata": {},
     "output_type": "execute_result"
    }
   ],
   "source": [
    "mat←2 3 ⍴ a\n",
    "⍴mat"
   ]
  },
  {
   "cell_type": "markdown",
   "id": "4d482ba7-7338-4983-932d-8bb052ddb499",
   "metadata": {},
   "source": [
    "The shape of a scalar is the empty vector."
   ]
  },
  {
   "cell_type": "code",
   "execution_count": null,
   "id": "49027e1b",
   "metadata": {},
   "outputs": [
    {
     "data": {
      "text/html": [
       "<pre class=\"language-APL\">┌⊖┐\n",
       "│0│\n",
       "└~┘\n",
       "</pre>"
      ]
     },
     "execution_count": null,
     "metadata": {},
     "output_type": "execute_result"
    }
   ],
   "source": [
    "⍴3"
   ]
  },
  {
   "cell_type": "code",
   "execution_count": null,
   "id": "4e7acf5b",
   "metadata": {},
   "outputs": [
    {
     "data": {
      "text/html": [
       "<pre class=\"language-APL\">┌⊖┐\n",
       "│0│\n",
       "└~┘\n",
       "</pre>"
      ]
     },
     "execution_count": null,
     "metadata": {},
     "output_type": "execute_result"
    }
   ],
   "source": [
    "⍬"
   ]
  },
  {
   "cell_type": "code",
   "execution_count": null,
   "id": "a99c3656",
   "metadata": {},
   "outputs": [
    {
     "data": {
      "text/html": [
       "<pre class=\"language-APL\">┌→┐\n",
       "│0│\n",
       "└~┘\n",
       "</pre>"
      ]
     },
     "execution_count": null,
     "metadata": {},
     "output_type": "execute_result"
    }
   ],
   "source": [
    "⍴⍬"
   ]
  },
  {
   "cell_type": "code",
   "execution_count": null,
   "id": "58eaa324",
   "metadata": {},
   "outputs": [
    {
     "data": {
      "text/html": [
       "<pre class=\"language-APL\">┌→┐\n",
       "│2│\n",
       "└~┘\n",
       "</pre>"
      ]
     },
     "execution_count": null,
     "metadata": {},
     "output_type": "execute_result"
    }
   ],
   "source": [
    "mat←2 3 ⍴ a\n",
    "⍴⍴mat"
   ]
  },
  {
   "cell_type": "code",
   "execution_count": null,
   "id": "46d5a389",
   "metadata": {},
   "outputs": [
    {
     "data": {
      "text/html": [
       "<pre class=\"language-APL\">┌→┐\n",
       "│1│\n",
       "└~┘\n",
       "</pre>"
      ]
     },
     "execution_count": null,
     "metadata": {},
     "output_type": "execute_result"
    }
   ],
   "source": [
    "mat←2 3 ⍴ a\n",
    "⍴⍴⍴mat"
   ]
  },
  {
   "cell_type": "code",
   "execution_count": null,
   "id": "edebb07a",
   "metadata": {},
   "outputs": [
    {
     "data": {
      "text/html": [
       "<pre class=\"language-APL\">┌→────┐\n",
       "│2 2 3│\n",
       "└~────┘\n",
       "</pre>"
      ]
     },
     "execution_count": null,
     "metadata": {},
     "output_type": "execute_result"
    }
   ],
   "source": [
    "c←2 2 3 ⍴ a\n",
    "⍴c"
   ]
  },
  {
   "cell_type": "code",
   "execution_count": null,
   "id": "d34adc21",
   "metadata": {},
   "outputs": [
    {
     "data": {
      "text/html": [
       "<pre class=\"language-APL\">┌→┐\n",
       "│1│\n",
       "└~┘\n",
       "</pre>"
      ]
     },
     "execution_count": null,
     "metadata": {},
     "output_type": "execute_result"
    }
   ],
   "source": [
    "c←2 2 3 ⍴ a\n",
    "⍴⍴⍴c"
   ]
  },
  {
   "cell_type": "markdown",
   "id": "32f7818e-d07a-4270-bf90-cbcdb34a8067",
   "metadata": {},
   "source": [
    "The boxes around the numbers have special meanings that are useful.  The Display Conventions section covers the special meanings (6.4.1 in the [Mastering Dyalog APL book](https://www.dyalog.com/uploads/documents/MasteringDyalogAPL.pdf)).  For convenience we have put the text of that section below.\n",
    "\n",
    "The upper-left corner of the box provides information about the shape of the displayed value:\n",
    "\n",
    "+ a single horizontal arrow for a vector\n",
    "+ two (or more) arrows for a matrix or higher rank arrays\n",
    "+ no arrow at all for scalars containing nested values, a concept we haven't seen up to now\n",
    "\n",
    "The bottom-left corner of the box provides information about the contents of the array:\n",
    "\n",
    "+ ~ means that the array contains only numeric values\n",
    "+ _ means that the array contains only characters\n",
    "+ \\+ is used for mixed arrays\n",
    "+ ∮ means that the array contains other arrays: it is a nested array"
   ]
  },
  {
   "cell_type": "markdown",
   "id": "1ca2af7b",
   "metadata": {},
   "source": [
    "## Strings (characters and character vectors)\n",
    "\n",
    "A series of characters creates a character vector whose length is the number of characters in it"
   ]
  },
  {
   "cell_type": "code",
   "execution_count": null,
   "id": "e2b8eae9",
   "metadata": {},
   "outputs": [
    {
     "data": {
      "text/html": [
       "<pre class=\"language-APL\">┌→──┐\n",
       "│ACF│\n",
       "└───┘\n",
       "</pre>"
      ]
     },
     "execution_count": null,
     "metadata": {},
     "output_type": "execute_result"
    }
   ],
   "source": [
    "'ACF'"
   ]
  },
  {
   "cell_type": "code",
   "execution_count": null,
   "id": "1edbbe2c-593c-4719-bfd8-7e8c07cfee0d",
   "metadata": {},
   "outputs": [
    {
     "data": {
      "text/html": [
       "<pre class=\"language-APL\">┌→┐\n",
       "│3│\n",
       "└~┘\n",
       "</pre>"
      ]
     },
     "execution_count": null,
     "metadata": {},
     "output_type": "execute_result"
    }
   ],
   "source": [
    "⍴'ACF'"
   ]
  },
  {
   "cell_type": "code",
   "execution_count": null,
   "id": "3d924a62",
   "metadata": {},
   "outputs": [
    {
     "data": {
      "text/html": [
       "<pre class=\"language-APL\">┌→──┐\n",
       "│ACF│\n",
       "└───┘\n",
       "</pre>"
      ]
     },
     "execution_count": null,
     "metadata": {},
     "output_type": "execute_result"
    }
   ],
   "source": [
    "'A' 'C' 'F'"
   ]
  },
  {
   "cell_type": "markdown",
   "id": "293c4047-fb1d-4366-b5c0-9d0bc0f2e46f",
   "metadata": {},
   "source": [
    "A single character is a scalar, and like other scalars has an empty shape."
   ]
  },
  {
   "cell_type": "code",
   "execution_count": null,
   "id": "fecb4641",
   "metadata": {},
   "outputs": [
    {
     "data": {
      "text/html": [
       "<pre class=\"language-APL\">┌⊖┐\n",
       "│0│\n",
       "└~┘\n",
       "</pre>"
      ]
     },
     "execution_count": null,
     "metadata": {},
     "output_type": "execute_result"
    }
   ],
   "source": [
    "⍴'y'"
   ]
  },
  {
   "cell_type": "code",
   "execution_count": null,
   "id": "1d591cc4",
   "metadata": {},
   "outputs": [
    {
     "data": {
      "text/html": [
       "<pre class=\"language-APL\">┌→┐\n",
       "│9│\n",
       "└~┘\n",
       "</pre>"
      ]
     },
     "execution_count": null,
     "metadata": {},
     "output_type": "execute_result"
    }
   ],
   "source": [
    "⍴'your boat'"
   ]
  },
  {
   "cell_type": "code",
   "execution_count": null,
   "id": "91a3fd9a",
   "metadata": {},
   "outputs": [
    {
     "data": {
      "text/html": [
       "<pre class=\"language-APL\">┌→────────┐\n",
       "│1 2 3 4 a│\n",
       "└+────────┘\n",
       "</pre>"
      ]
     },
     "execution_count": null,
     "metadata": {},
     "output_type": "execute_result"
    }
   ],
   "source": [
    "1 2 3 4 'a'"
   ]
  },
  {
   "cell_type": "markdown",
   "id": "d2dafe78-10a8-4c0c-ab5d-992b206f6d22",
   "metadata": {},
   "source": [
    "Because a series of strings is a vector, putting it in another array creates a nested array."
   ]
  },
  {
   "cell_type": "code",
   "execution_count": null,
   "id": "2304a301",
   "metadata": {},
   "outputs": [
    {
     "data": {
      "text/html": [
       "<pre class=\"language-APL\">┌→─────────────┐\n",
       "│         ┌→─┐ │\n",
       "│ 1 2 3 4 │ab│ │\n",
       "│         └──┘ │\n",
       "└∊─────────────┘\n",
       "</pre>"
      ]
     },
     "execution_count": null,
     "metadata": {},
     "output_type": "execute_result"
    }
   ],
   "source": [
    "1 2 3 4 'ab'"
   ]
  },
  {
   "cell_type": "code",
   "execution_count": null,
   "id": "c4207e87",
   "metadata": {},
   "outputs": [
    {
     "data": {
      "text/html": [
       "<pre class=\"language-APL\">┌→─────────────────┐\n",
       "│ ┌→──┐ ┌→──┐ ┌→─┐ │\n",
       "│ │1 2│ │3 4│ │ab│ │\n",
       "│ └~──┘ └~──┘ └──┘ │\n",
       "└∊─────────────────┘\n",
       "</pre>"
      ]
     },
     "execution_count": null,
     "metadata": {},
     "output_type": "execute_result"
    }
   ],
   "source": [
    "(1 2)(3 4)'ab'"
   ]
  },
  {
   "cell_type": "markdown",
   "id": "ea2adb4a-3a80-48d2-ab13-6b50bc9a3aad",
   "metadata": {},
   "source": [
    "There is a pre-defined variable that gives all the letters of the alphabet provided for convenience."
   ]
  },
  {
   "cell_type": "code",
   "execution_count": null,
   "id": "35b5a8ed",
   "metadata": {},
   "outputs": [
    {
     "data": {
      "text/html": [
       "<pre class=\"language-APL\">┌→─────────────────────────┐\n",
       "│ABCDEFGHIJKLMNOPQRSTUVWXYZ│\n",
       "└──────────────────────────┘\n",
       "</pre>"
      ]
     },
     "execution_count": null,
     "metadata": {},
     "output_type": "execute_result"
    }
   ],
   "source": [
    "⎕A"
   ]
  }
 ],
 "metadata": {
  "kernelspec": {
   "display_name": "Dyalog APL",
   "language": "apl",
   "name": "dyalog-kernel"
  }
 },
 "nbformat": 4,
 "nbformat_minor": 5
}
